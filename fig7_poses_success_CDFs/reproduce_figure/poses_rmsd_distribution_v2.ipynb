{
 "cells": [
  {
   "cell_type": "markdown",
   "source": [
    "Who to blame for these plots: Alex Payne\n",
    "\n",
    "This notebook is used to generate the plots for the paper, and is based on csv file `scores_by_molecule_and_method.csv` generated in the previous notebook `poses_rmsd_distribution.ipynb`."
   ],
   "metadata": {
    "collapsed": false
   },
   "id": "a787a60e17b90a8d"
  },
  {
   "cell_type": "code",
   "outputs": [],
   "source": [
    "import pandas as pd\n",
    "import base64\n",
    "from rdkit import Chem \n",
    "from rdkit.Chem.Scaffolds import MurckoScaffold\n",
    "import matplotlib.pyplot as plt\n",
    "import seaborn as sns"
   ],
   "metadata": {},
   "id": "1213235f-ee50-44d8-a88b-0f57ce7bfd59",
   "execution_count": null
  },
  {
   "cell_type": "code",
   "execution_count": null,
   "id": "6ea2ad26-7f4e-4d5a-ab99-e89b11c3aae7",
   "metadata": {},
   "outputs": [],
   "source": [
    "entry_categories = {\n",
    "    \"competition-prediction-8oFF30AHg20eUKrnRQzUE\": \"CF\",\n",
    "    \"competition-prediction-Edd645cpFboFZRsUm20em\": \"DL\",\n",
    "    \"competition-prediction-tXLnHU72dFljtgWAuvh8Z\": \"PB\",\n",
    "    \"competition-prediction-late-im0HtqthslCqgR1BHgf9b\": \"CF\",\n",
    "    \"competition-prediction-sqr7BVpSxy4NSgljcEgl8\": \"PB\",\n",
    "    \"competition-prediction-t4heZQ05hXlJ6vcfhZjP2\": \"PB\",\n",
    "    \"competition-prediction-GL85gNve6u38L33Q2wUiJ\": \"DL\",\n",
    "    \"competition-prediction-Kec3G0H9KJGWfRouaHDLQ\": \"PB\",\n",
    "    \"competition-prediction-JPiM6etVV4SNygnvAZqj7\": \"CF\",\n",
    "    \"competition-prediction-M0ePYflVVxiF79RnRcCkC\": \"PB\",\n",
    "    \"competition-prediction-S9yhyrYVraSy6vZ3u0iwS\": \"DL\",\n",
    "    \"competition-prediction-pxXgSbG31dfMbqohnMnfP\": \"CF\",\n",
    "    \"competition-prediction-DLGeSzUxB29MqK9pnBawM\": \"PB\",\n",
    "    \"competition-prediction-8ygjELYPeCo3or8AS6Xom\": \"DL\",\n",
    "    \"competition-prediction-o8n3Fgdevuj8th3FfUNu1\": \"DL\",\n",
    "    \"competition-prediction-TPDYWfhEw4nYp81Kd5s1W\": \"PB\",\n",
    "    \"competition-prediction-th7lSmtpv1tMxmNjYqCJU\": \"PB\",\n",
    "    \"competition-prediction-kMD7A97Q9b7wnRH8Ze9e\": \"PB\",\n",
    "    \"competition-prediction-TSWQyQgwNyUbdp5EaGbmU\": \"PB\",\n",
    "    \"competition-prediction-SXMdEmccFmbNBtiVCZvp9\": \"CF\",\n",
    "    \"competition-prediction-JLy17Fu87yM2ch741quDp\": \"PB\",\n",
    "    \"competition-prediction-MoEWcKkwYkPeFHrw3qaWd\": \"PB\",\n",
    "    \"competition-prediction-sKvyY8FZzDDX1jaFpBG8t\": \"CF\",\n",
    "    \"competition-prediction-GZRD1499Q0k3ejSX7wR22\": \"PB\",\n",
    "    'competition-prediction-kMD7A97Q9b7wnRH8Ze9e9': \"PB\",\n",
    "}"
   ]
  },
  {
   "cell_type": "code",
   "execution_count": null,
   "id": "b72cdf61-a26c-4162-aa16-79960730add8",
   "metadata": {},
   "outputs": [],
   "source": [
    "BASELINE_ID = \"competition-prediction-DLGeSzUxB29MqK9pnBawM\""
   ]
  },
  {
   "cell_type": "code",
   "outputs": [],
   "source": [
    "# Define method category labels\n",
    "method_labels = {\"CF\": \"Co-Folding\", \"DL\": \"Deep-Learning\", \"PB\": \"Physics-based\"}"
   ],
   "metadata": {
    "collapsed": false
   },
   "id": "e768bcbd7446e6fc",
   "execution_count": null
  },
  {
   "cell_type": "code",
   "execution_count": null,
   "id": "db2bb8a2-875c-42c7-ad54-0f1f5741c3bf",
   "metadata": {},
   "outputs": [],
   "source": [
    "def deserialize_rdkit_mol(b64_string: str) -> Chem.Mol:\n",
    "    mol_bytes = base64.b64decode(b64_string)\n",
    "    return Chem.Mol(mol_bytes)"
   ]
  },
  {
   "cell_type": "code",
   "execution_count": null,
   "id": "9198c5cb-ac3e-41ca-9167-d1c36405573d",
   "metadata": {},
   "outputs": [],
   "source": [
    "def serialized_list_to_rdkit(data: list[str]) -> list[Chem.Mol]:\n",
    "    mols = []\n",
    "    for d in data:\n",
    "        mols.append(deserialize_rdkit_mol(d))\n",
    "    return mols"
   ]
  },
  {
   "cell_type": "code",
   "outputs": [],
   "source": [
    "def get_generic(mol):\n",
    "    scaff = MurckoScaffold.GetScaffoldForMol(mol)\n",
    "    scaff = MurckoScaffold.MakeScaffoldGeneric(scaff)\n",
    "    return Chem.MolToSmiles(scaff)"
   ],
   "metadata": {
    "collapsed": false
   },
   "id": "167184b1b76858ba",
   "execution_count": null
  },
  {
   "cell_type": "code",
   "outputs": [],
   "source": [
    "scores_by_scaffold_and_method = pd.read_csv(\"scores_by_molecule_and_method.csv\")"
   ],
   "metadata": {
    "collapsed": false
   },
   "id": "ed0437dcf567ce1d",
   "execution_count": null
  },
  {
   "cell_type": "code",
   "outputs": [],
   "source": [
    "single_method = scores_by_scaffold_and_method[scores_by_scaffold_and_method[\"Method\"] == scores_by_scaffold_and_method[\"Method\"].unique()[0]]"
   ],
   "metadata": {
    "collapsed": false
   },
   "id": "53890563cf4e71a7",
   "execution_count": null
  },
  {
   "cell_type": "code",
   "outputs": [],
   "source": [
    "scaff_counts = single_method.groupby([\"Scaffold\"]).count()"
   ],
   "metadata": {
    "collapsed": false
   },
   "id": "dddf0d2f4ba7389a",
   "execution_count": null
  },
  {
   "cell_type": "code",
   "outputs": [],
   "source": [
    "sc = scaff_counts.sort_values(\"RMSD\", ascending=False)[\"RMSD\"].reset_index()"
   ],
   "metadata": {
    "collapsed": false
   },
   "id": "a49ff62f0fc24a33",
   "execution_count": null
  },
  {
   "cell_type": "code",
   "outputs": [],
   "source": [
    "sc.columns=[\"Scaffold\", \"Count\"]"
   ],
   "metadata": {
    "collapsed": false
   },
   "id": "fbd2075bcfa739cf",
   "execution_count": null
  },
  {
   "cell_type": "code",
   "outputs": [],
   "source": [
    "small = sc[sc[\"Count\"] > 5]"
   ],
   "metadata": {
    "collapsed": false
   },
   "id": "56fa1b9d0786c919",
   "execution_count": null
  },
  {
   "cell_type": "code",
   "outputs": [],
   "source": [
    "scores_by_scaffold_and_method_simple_scaffolds = scores_by_scaffold_and_method[scores_by_scaffold_and_method[\"Scaffold\"].isin(small[\"Scaffold\"].tolist())]"
   ],
   "metadata": {
    "collapsed": false
   },
   "id": "9f6a8bb87dbd2ea",
   "execution_count": null
  },
  {
   "cell_type": "code",
   "outputs": [],
   "source": [
    "df = scores_by_scaffold_and_method_simple_scaffolds.copy()"
   ],
   "metadata": {
    "collapsed": false
   },
   "id": "dc131dc7adb2b4f7",
   "execution_count": null
  },
  {
   "cell_type": "code",
   "outputs": [],
   "source": [
    "df[\"Success\"] = df[\"RMSD\"] < 2"
   ],
   "metadata": {
    "collapsed": false
   },
   "id": "c35a4495aa33093b",
   "execution_count": null
  },
  {
   "cell_type": "code",
   "outputs": [],
   "source": [
    "n_correct = df[[\"Method\", \"Scaffold\", \"Protein\", \"Success\"]].groupby([\"Method\", \"Scaffold\", \"Protein\"]).sum()[\"Success\"]"
   ],
   "metadata": {
    "collapsed": false
   },
   "id": "c64124ae74a64432",
   "execution_count": null
  },
  {
   "cell_type": "code",
   "outputs": [],
   "source": [
    "total = df[[\"Method\", \"Scaffold\", \"Protein\", \"Success\"]].groupby([\"Method\", \"Scaffold\", \"Protein\"]).count()[\"Success\"]"
   ],
   "metadata": {
    "collapsed": false
   },
   "id": "3a18420938586e70",
   "execution_count": null
  },
  {
   "cell_type": "code",
   "outputs": [],
   "source": [
    "success_rate_by_scaffold = n_correct / total"
   ],
   "metadata": {
    "collapsed": false
   },
   "id": "b3eb90f3dd0ceb4a",
   "execution_count": null
  },
  {
   "cell_type": "code",
   "outputs": [],
   "source": [
    "success_rate_by_scaffold = success_rate_by_scaffold.reset_index()"
   ],
   "metadata": {
    "collapsed": false
   },
   "id": "29438aacabd7baf0",
   "execution_count": null
  },
  {
   "cell_type": "code",
   "outputs": [],
   "source": [
    "scores_by_scaffold_and_method[\"Category\"] = scores_by_scaffold_and_method.Method.apply(lambda x: entry_categories.get(x, None))\n",
    "scores_by_scaffold_and_method[\"Method Type\"] = scores_by_scaffold_and_method.Category.apply(lambda x: method_labels.get(x, None))"
   ],
   "metadata": {
    "collapsed": false
   },
   "id": "c8fd6f7d2172e795",
   "execution_count": null
  },
  {
   "cell_type": "code",
   "outputs": [],
   "source": [
    "scores_by_scaffold_and_method[\"RDKitMol\"] = scores_by_scaffold_and_method.SMILES.apply(lambda x: Chem.MolFromSmiles(x))"
   ],
   "metadata": {
    "collapsed": false
   },
   "id": "4b5a68d933e57251",
   "execution_count": null
  },
  {
   "cell_type": "markdown",
   "source": [
    "# add series information"
   ],
   "metadata": {
    "collapsed": false
   },
   "id": "e8520724570ef2a8"
  },
  {
   "cell_type": "code",
   "outputs": [],
   "source": [
    "lead = Chem.MolFromSmiles(\"O=C1CCCN1c(cnc2)c3c2cccc3\")\n",
    "backup = Chem.MolFromSmiles(\"NC(CC1=CN=CC2=CC=CC=C12)=O\")\n",
    "## Write out scaffolds\n",
    "scaffs = {\"lead\": lead, \"backup\": backup}\n",
    "\n",
    "## Get which series each molecule is in\n",
    "scores_by_scaffold_and_method[\"IS_LEAD\"] = scores_by_scaffold_and_method.RDKitMol.apply(\n",
    "    lambda x: x.HasSubstructMatch(scaffs[\"lead\"]))\n",
    "scores_by_scaffold_and_method[\"IS_BACKUP\"] = scores_by_scaffold_and_method.RDKitMol.apply(\n",
    "    lambda x: x.HasSubstructMatch(scaffs[\"backup\"]))\n",
    "\n",
    "\n",
    "def get_series(mol):\n",
    "    if mol.HasSubstructMatch(scaffs[\"lead\"]):\n",
    "        return \"Lead\"\n",
    "    if mol.HasSubstructMatch(scaffs[\"backup\"]):\n",
    "        return \"Backup\"\n",
    "    else:\n",
    "        return \"Misc\"\n",
    "\n",
    "\n",
    "scores_by_scaffold_and_method[\"Series\"] = scores_by_scaffold_and_method.RDKitMol.apply(get_series)"
   ],
   "metadata": {
    "collapsed": false
   },
   "id": "dac6dd23a6d52a8",
   "execution_count": null
  },
  {
   "cell_type": "markdown",
   "source": [
    "## calculate success rate vs series"
   ],
   "metadata": {
    "collapsed": false
   },
   "id": "72169272020b4ab5"
  },
  {
   "cell_type": "code",
   "outputs": [],
   "source": [
    "df = scores_by_scaffold_and_method.copy()\n",
    "df[\"Success\"] = df[\"RMSD\"] < 2\n",
    "n_correct = df[[\"Method\", \"Series\", \"Protein\", \"Success\"]].groupby([\"Method\", \"Series\", \"Protein\"]).sum()[\"Success\"]\n",
    "total = df[[\"Method\", \"Series\", \"Protein\", \"Success\"]].groupby([\"Method\", \"Series\", \"Protein\"]).count()[\"Success\"]\n",
    "success_rate = n_correct / total\n",
    "success_rate = success_rate.reset_index()"
   ],
   "metadata": {
    "collapsed": false
   },
   "id": "7d0ce53c6662aedb",
   "execution_count": null
  },
  {
   "cell_type": "code",
   "outputs": [],
   "source": [
    "success_rate[\"method_type\"] = success_rate[\"Method\"].apply(lambda x: entry_categories.get(x, None))"
   ],
   "metadata": {
    "collapsed": false
   },
   "id": "f52363da21375155",
   "execution_count": null
  },
  {
   "cell_type": "code",
   "outputs": [],
   "source": [
    "success_rate[\"Method Type\"] = success_rate[\"method_type\"].apply(lambda x: method_labels.get(x, None))"
   ],
   "metadata": {
    "collapsed": false
   },
   "id": "9e8a03cf9277f1bf",
   "execution_count": null
  },
  {
   "cell_type": "markdown",
   "source": [
    "## calculate success rate vs method"
   ],
   "metadata": {
    "collapsed": false
   },
   "id": "45a212b040160fab"
  },
  {
   "cell_type": "code",
   "outputs": [],
   "source": [
    "df = scores_by_scaffold_and_method.copy()\n",
    "df[\"Success\"] = df[\"RMSD\"] < 2\n",
    "n_correct = df[[\"Method Type\", \"Method\", \"Protein\", \"Success\"]].groupby([\"Method Type\", \"Method\", \"Protein\"]).sum()[\"Success\"]\n",
    "total = df[[\"Method Type\", \"Method\", \"Protein\", \"Success\"]].groupby([\"Method Type\", \"Method\", \"Protein\"]).count()[\"Success\"]\n",
    "success_rate_by_method = n_correct / total\n",
    "success_rate_by_method = success_rate_by_method.reset_index()"
   ],
   "metadata": {
    "collapsed": false
   },
   "id": "774aca1efa57f141",
   "execution_count": null
  },
  {
   "cell_type": "markdown",
   "source": [
    "# plotting defaults"
   ],
   "metadata": {
    "collapsed": false
   },
   "id": "3fa35822527aedef"
  },
  {
   "cell_type": "code",
   "outputs": [],
   "source": [
    "plt.style.use('default')\n",
    "sns.set_theme(style=\"ticks\")\n",
    "\n",
    "# Define colors\n",
    "lead_color = \"#1E88E5\"\n",
    "backup_color = \"#FFC107\"\n",
    "misc_color = \"#004D40\"\n",
    "\n",
    "# Reorder the proteins\n",
    "protein_order = [\"SARS-CoV-2 Mpro\", \"MERS-CoV Mpro\"]\n",
    "series_order = [\"Lead\", \"Backup\", \"Misc\"]\n",
    "\n",
    "# Define method category labels\n",
    "method_labels = {\"CF\": \"Co-Folding\", \"DL\": \"Deep-Learning\", \"PB\": \"Physics-based\"}\n",
    "\n",
    "# Create custom palette\n",
    "palette = {\"Lead\": lead_color, \n",
    "           \"Backup\": backup_color, \n",
    "           \"Misc\": misc_color,\n",
    "           \"Co-Folding\": \"#b51963\",\n",
    "           \"Deep-Learning\": \"#0073e6\",\n",
    "           \"Physics-based\": \"#5ba300\"}\n",
    "\n",
    "lead_success_title = \"Success Rate on Lead Series\"\n",
    "backup_success_title = \"Success Rate on Backup Series\""
   ],
   "metadata": {
    "collapsed": false
   },
   "id": "8b4af01014dec06b",
   "execution_count": null
  },
  {
   "cell_type": "markdown",
   "source": [
    "### KDE"
   ],
   "metadata": {
    "collapsed": false
   },
   "id": "b0fa4c7c5e60f802"
  },
  {
   "cell_type": "code",
   "outputs": [],
   "source": [
    "# plotdf = success_rate[~(success_rate[\"Series\"] == \"Misc\")]\n",
    "plotdf = success_rate\n",
    "g = sns.displot(plotdf, x=\"Success\", hue=\"Series\", palette=palette, col=\"Protein\", col_order=protein_order, kind=\"kde\", fill=True, alpha=0.5, hue_order=series_order)\n",
    "\n",
    "# Save the figure\n",
    "g.fig.savefig('success_rate_distribution_kde.png',\n",
    "              bbox_inches='tight',\n",
    "              dpi=300)"
   ],
   "metadata": {
    "collapsed": false
   },
   "id": "ab07a8cde3ee0603",
   "execution_count": null
  },
  {
   "cell_type": "markdown",
   "source": [
    "# success rate by series "
   ],
   "metadata": {
    "collapsed": false
   },
   "id": "21dfeb189b4f27b1"
  },
  {
   "cell_type": "code",
   "outputs": [],
   "source": [
    "sns.set_theme(style=\"white\")\n",
    "# plotdf = success_rate[~(success_rate[\"Series\"] == \"Misc\")]\n",
    "plotdf = success_rate\n",
    "\n",
    "palette = {\"Lead\": lead_color, \n",
    "           \"Backup\": backup_color, \n",
    "           \"Misc\": misc_color,}\n",
    "\n",
    "g = sns.displot(plotdf, \n",
    "                x=\"Success\", \n",
    "                hue=\"Series\", \n",
    "                palette=palette, \n",
    "                col=\"Protein\", \n",
    "                col_order=protein_order, \n",
    "                kind=\"ecdf\", \n",
    "                hue_order=series_order,\n",
    "                height=4,\n",
    "                aspect=1)\n",
    "\n",
    "# Update subplot titles\n",
    "g.set_titles(col_template=\"{col_name}\")\n",
    "\n",
    "# Update line thickness\n",
    "for ax in g.axes[0]:\n",
    "    for line in ax.lines:\n",
    "        line.set_linewidth(2)\n",
    "\n",
    "sns.move_legend(g, \"upper left\", bbox_to_anchor=(0.1, 0.9))\n",
    "\n",
    "# Remove x-axis ticks and labels\n",
    "for ax in g.axes[0]:\n",
    "    ax.set_xticks([])\n",
    "    ax.set_xticklabels([])\n",
    "    ax.set_xlabel('')\n",
    "\n",
    "for ax in g.axes[0]:\n",
    "    ax.set_xlim(0, 1.05)\n",
    "    ax.set_ylim(0, 1.05)\n",
    "#     ax.set_aspect('equal')\n",
    "\n",
    "# Save the figure\n",
    "g.fig.savefig('success_rate_distribution_ecdf.pdf',\n",
    "              bbox_inches='tight',\n",
    "              dpi=300)"
   ],
   "metadata": {
    "collapsed": false
   },
   "id": "e23965c2d8c56c10",
   "execution_count": null
  },
  {
   "cell_type": "markdown",
   "source": [
    "## pairplot from backup to lead for each type of entry"
   ],
   "metadata": {
    "collapsed": false
   },
   "id": "269ab5c7998e1e14"
  },
  {
   "cell_type": "code",
   "outputs": [],
   "source": [
    "success_rate_lead = success_rate[success_rate[\"Series\"] == \"Lead\"]\n",
    "success_rate_backup = success_rate[success_rate[\"Series\"] == \"Backup\"]"
   ],
   "metadata": {
    "collapsed": false
   },
   "id": "a26252043b9d62c9",
   "execution_count": null
  },
  {
   "cell_type": "code",
   "outputs": [],
   "source": [
    "lead_vs_backup = pd.merge(success_rate_lead, success_rate_backup, on=[\"Method\", \"Protein\", \"Method Type\"], suffixes=[\"_Lead\", \"_Backup\"]).drop(columns=[\"Series_Lead\", \"Series_Backup\"])"
   ],
   "metadata": {
    "collapsed": false
   },
   "id": "ca9c0097800c56dc",
   "execution_count": null
  },
  {
   "cell_type": "code",
   "outputs": [],
   "source": [
    "sns.scatterplot(lead_vs_backup, x=\"Success_Lead\", y=\"Success_Backup\", hue=\"Method Type\", style=\"Protein\", style_order=protein_order)"
   ],
   "metadata": {
    "collapsed": false
   },
   "id": "84fbdec6d7ebc2cc",
   "execution_count": null
  },
  {
   "cell_type": "code",
   "outputs": [],
   "source": [
    "lead_vs_backup[lead_success_title] = lead_vs_backup[\"Success_Lead\"]\n",
    "lead_vs_backup[backup_success_title] = lead_vs_backup[\"Success_Backup\"]\n",
    "palette = {\"Co-Folding\": \"#51ac15\",\n",
    "           \"Deep-Learning\": \"#2e70f0\",\n",
    "           \"Physics-based\": \"#c03868\"}\n",
    "g = sns.relplot(data=lead_vs_backup, x=lead_success_title, y=backup_success_title, \n",
    "                hue=\"Method Type\", col=\"Protein\", col_order=protein_order, palette=palette\n",
    "                )\n",
    "\n",
    "# Update subplot titles and move legend\n",
    "g.set_titles(col_template=\"{col_name}\")\n",
    "g._legend.remove()  # Remove the original legend\n",
    "g.fig.legend(loc='upper left', bbox_to_anchor=(0.125, 0.9))\n",
    "\n",
    "for ax in g.axes[0]:\n",
    "    ax.set_xlim(-0.1, 1)\n",
    "    ax.set_ylim(-0.1, 1)\n",
    "    # ax.set_aspect('equal')\n",
    "# save figure\n",
    "# Save the figure\n",
    "g.fig.savefig('success_rate_lead_vs_backup_comparison.png',\n",
    "              bbox_inches='tight',\n",
    "              dpi=300)"
   ],
   "metadata": {
    "collapsed": false
   },
   "id": "500fc071cd322dc7",
   "execution_count": null
  },
  {
   "cell_type": "code",
   "outputs": [],
   "source": [],
   "metadata": {
    "collapsed": false
   },
   "id": "39e6e552482b983",
   "execution_count": null
  },
  {
   "cell_type": "markdown",
   "source": [
    "# plot by method type"
   ],
   "metadata": {
    "collapsed": false
   },
   "id": "d52d011a22f08946"
  },
  {
   "cell_type": "code",
   "outputs": [],
   "source": [
    "plotdf = success_rate_by_method.copy()\n",
    "sns.set_style(\"white\")\n",
    "\n",
    "palette = {\"Co-Folding\": \"#51ac15\",\n",
    "           \"Deep-Learning\": \"#2e70f0\",\n",
    "           \"Physics-based\": \"#c03868\"}\n",
    "\n",
    "g = sns.displot(plotdf, \n",
    "                x=\"Success\", \n",
    "                hue=\"Method Type\", \n",
    "                col=\"Protein\", \n",
    "                col_order=protein_order, \n",
    "                kind=\"ecdf\", \n",
    "                palette=palette,\n",
    "                height=4,\n",
    "                aspect=1)\n",
    "# Update subplot titles\n",
    "# g.set_titles(col_template=\"{col_name}\")\n",
    "\n",
    "# Remove subplot titles\n",
    "g.set_titles(col_template=\"\")\n",
    "\n",
    "# Update line thickness\n",
    "for ax in g.axes[0]:\n",
    "    for line in ax.lines:\n",
    "        line.set_linewidth(2)\n",
    "\n",
    "sns.move_legend(g, \"upper left\", bbox_to_anchor=(0.075, 1))\n",
    "\n",
    "for ax in g.axes[0]:\n",
    "    ax.set_xlim(0, 1.05)\n",
    "    ax.set_ylim(0, 1.05)\n",
    "    # ax.set_aspect('equal')\n",
    "\n",
    "g.fig.savefig('success_rate_vs_method_type_ecdf.pdf',\n",
    "              bbox_inches='tight',\n",
    "              dpi=300)"
   ],
   "metadata": {
    "collapsed": false
   },
   "id": "463ecfa48abfec0e",
   "execution_count": null
  },
  {
   "cell_type": "markdown",
   "source": [
    "# plot by scaffold"
   ],
   "metadata": {
    "collapsed": false
   },
   "id": "2bac99acb8f9c091"
  },
  {
   "cell_type": "code",
   "outputs": [],
   "source": [
    "# plotdf = success_rate[~(success_rate[\"Series\"] == \"Misc\")]\n",
    "plotdf = success_rate_by_scaffold\n",
    "g = sns.displot(plotdf, x=\"Success\", hue=\"Scaffold\", col=\"Protein\", col_order=protein_order, kind=\"kde\", fill=False)\n",
    "\n",
    "# Save the figure\n",
    "g.fig.savefig('success_rate_distribution_by_scaffold_kde.png',\n",
    "              bbox_inches='tight',\n",
    "              dpi=300)"
   ],
   "metadata": {
    "collapsed": false
   },
   "id": "6c9d36848a57ba15",
   "execution_count": null
  },
  {
   "cell_type": "code",
   "outputs": [],
   "source": [
    "plotdf = success_rate_by_scaffold\n",
    "g = sns.displot(plotdf, x=\"Success\", hue=\"Scaffold\", col=\"Protein\", col_order=protein_order, kind=\"ecdf\")\n",
    "\n",
    "# Save the figure\n",
    "g.fig.savefig('success_rate_distribution_by_scaffold_ecdf.png',\n",
    "              bbox_inches='tight',\n",
    "              dpi=300)"
   ],
   "metadata": {
    "collapsed": false
   },
   "id": "b93a377b73b2335c",
   "execution_count": null
  },
  {
   "cell_type": "markdown",
   "source": [
    "# Check if it's true that only a few of the methods tested on MISC"
   ],
   "metadata": {
    "collapsed": false
   },
   "id": "f0b164b881e7bb19"
  },
  {
   "cell_type": "code",
   "outputs": [],
   "source": [
    "success_rate.groupby([\"Protein\", \"Series\"]).nunique()"
   ],
   "metadata": {
    "collapsed": false
   },
   "id": "f0ce7df8856c087a",
   "execution_count": null
  },
  {
   "cell_type": "code",
   "outputs": [],
   "source": [
    "scores_by_scaffold_and_method.groupby([\"Protein\", \"Series\"]).nunique()"
   ],
   "metadata": {
    "collapsed": false
   },
   "id": "8ee58a02623cb876",
   "execution_count": null
  },
  {
   "cell_type": "markdown",
   "source": [
    "### it's just that there's only 4 ligands in the \"misc\" category for MERS, so success rate can only be a few discrete numbers"
   ],
   "metadata": {
    "collapsed": false
   },
   "id": "99f800cacaad1d1"
  }
 ],
 "metadata": {
  "kernelspec": {
   "display_name": "Python 3 (ipykernel)",
   "language": "python",
   "name": "python3"
  },
  "language_info": {
   "codemirror_mode": {
    "name": "ipython",
    "version": 3
   },
   "file_extension": ".py",
   "mimetype": "text/x-python",
   "name": "python",
   "nbconvert_exporter": "python",
   "pygments_lexer": "ipython3",
   "version": "3.12.9"
  }
 },
 "nbformat": 4,
 "nbformat_minor": 5
}
